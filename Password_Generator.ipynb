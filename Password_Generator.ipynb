{
 "cells": [
  {
   "cell_type": "code",
   "execution_count": 6,
   "id": "f2406d98-6a59-4656-a13c-6e48ad86276d",
   "metadata": {},
   "outputs": [
    {
     "name": "stdin",
     "output_type": "stream",
     "text": [
      "Enetr the minimum length:  15\n",
      "Do you want to have numbers(y/n)? y\n",
      "Do you want to have special character(y/n)? y\n"
     ]
    },
    {
     "name": "stdout",
     "output_type": "stream",
     "text": [
      "The generated password is: IwZ/3V,nLI^\"(V&\n"
     ]
    }
   ],
   "source": [
    "import random\n",
    "import string\n",
    "def generate_password(min_length, numbers=True, special_characters= True):\n",
    "    letters = string.ascii_letters\n",
    "    digits = string.digits\n",
    "    specials = string.punctuation\n",
    "\n",
    "    characters = letters\n",
    "    if numbers:\n",
    "        characters+=digits\n",
    "    if special_characters:\n",
    "        characters+=specials\n",
    "    pwd = \"\"\n",
    "    meets_criteria = False\n",
    "    has_number = False\n",
    "    has_special = False\n",
    "\n",
    "    while not meets_criteria or len(pwd) < min_length:\n",
    "        new_char = random.choice(characters)\n",
    "        pwd+=new_char\n",
    "\n",
    "        if new_char in digits:\n",
    "            has_number=True\n",
    "        elif new_char in specials:\n",
    "            has_special = True\n",
    "\n",
    "        meets_criteria = True\n",
    "        if numbers:\n",
    "            meets_criteria = has_number\n",
    "        if special_characters:\n",
    "            meets_criteria = meets_criteria and has_special\n",
    "    return(pwd)\n",
    "\n",
    "\n",
    "min_length = int(input(\"Enetr the minimum length: \"))\n",
    "has_number = input(\"Do you want to have numbers(y/n)?\").lower() ==\"y\"\n",
    "has_special = input(\"Do you want to have special character(y/n)?\").lower() ==\"y\"\n",
    "pwd = generate_password(min_length, has_number, has_special)\n",
    "print(\"The generated password is:\",pwd)"
   ]
  }
 ],
 "metadata": {
  "kernelspec": {
   "display_name": "Python 3 (ipykernel)",
   "language": "python",
   "name": "python3"
  },
  "language_info": {
   "codemirror_mode": {
    "name": "ipython",
    "version": 3
   },
   "file_extension": ".py",
   "mimetype": "text/x-python",
   "name": "python",
   "nbconvert_exporter": "python",
   "pygments_lexer": "ipython3",
   "version": "3.12.4"
  }
 },
 "nbformat": 4,
 "nbformat_minor": 5
}
